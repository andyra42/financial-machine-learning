{
  "nbformat": 4,
  "nbformat_minor": 0,
  "metadata": {
    "colab": {
      "name": "sentiment_analyzer..ipynb",
      "provenance": [],
      "collapsed_sections": [],
      "authorship_tag": "ABX9TyNScbz7qi1NSieo1w9AcAzU",
      "include_colab_link": true
    },
    "kernelspec": {
      "name": "python3",
      "display_name": "Python 3"
    }
  },
  "cells": [
    {
      "cell_type": "markdown",
      "metadata": {
        "id": "view-in-github",
        "colab_type": "text"
      },
      "source": [
        "<a href=\"https://colab.research.google.com/github/andyra42/financial-machine-learning/blob/master/sentiment_analyzer_.ipynb\" target=\"_parent\"><img src=\"https://colab.research.google.com/assets/colab-badge.svg\" alt=\"Open In Colab\"/></a>"
      ]
    },
    {
      "cell_type": "code",
      "metadata": {
        "id": "x_xsEtHqgnQ5"
      },
      "source": [
        "from urllib.request import urlopen, Request"
      ],
      "execution_count": 1,
      "outputs": []
    },
    {
      "cell_type": "code",
      "metadata": {
        "id": "467UDIN9hHGV",
        "outputId": "da599652-65d4-4287-fe4b-99ed1b9c9ce5",
        "colab": {
          "base_uri": "https://localhost:8080/",
          "height": 190
        }
      },
      "source": [
        "pip install inline"
      ],
      "execution_count": 3,
      "outputs": [
        {
          "output_type": "stream",
          "text": [
            "Collecting inline\n",
            "  Downloading https://files.pythonhosted.org/packages/e1/5a/5a500177bedd3a610c022c1a9e5d14979163a030f87ece1383076b0f00c3/inline-0.0.1.tar.gz\n",
            "Building wheels for collected packages: inline\n",
            "  Building wheel for inline (setup.py) ... \u001b[?25l\u001b[?25hdone\n",
            "  Created wheel for inline: filename=inline-0.0.1-cp36-none-any.whl size=3314 sha256=d5f830e3cf0efac6df5ddc688f61d99812c0d59ddc6f58c11bfc3091dddde320\n",
            "  Stored in directory: /root/.cache/pip/wheels/3d/22/5a/3cd6585c9bfa846bd65da2d3555464151af10cafa949f82b92\n",
            "Successfully built inline\n",
            "Installing collected packages: inline\n",
            "Successfully installed inline-0.0.1\n"
          ],
          "name": "stdout"
        }
      ]
    },
    {
      "cell_type": "code",
      "metadata": {
        "id": "qENErKV6g8yG"
      },
      "source": [
        "import inline as inline\n",
        "import matplotlib\n",
        "from bs4 import BeautifulSoup\n",
        "import os\n",
        "import pandas as pd\n",
        "import matplotlib.pyplot as plt"
      ],
      "execution_count": 4,
      "outputs": []
    },
    {
      "cell_type": "code",
      "metadata": {
        "id": "sGK91tTuhBP9"
      },
      "source": [
        "from nltk.sentiment.vader import SentimentIntensityAnalyzer\n",
        "import nltk"
      ],
      "execution_count": 6,
      "outputs": []
    },
    {
      "cell_type": "code",
      "metadata": {
        "id": "SBd8Y-P2hPhP",
        "outputId": "1bf3da47-d6ef-42d5-ae10-a515dc70f1dc",
        "colab": {
          "base_uri": "https://localhost:8080/",
          "height": 51
        }
      },
      "source": [
        "nltk.download('vader_lexicon')"
      ],
      "execution_count": 7,
      "outputs": [
        {
          "output_type": "stream",
          "text": [
            "[nltk_data] Downloading package vader_lexicon to /root/nltk_data...\n"
          ],
          "name": "stdout"
        },
        {
          "output_type": "execute_result",
          "data": {
            "text/plain": [
              "True"
            ]
          },
          "metadata": {
            "tags": []
          },
          "execution_count": 7
        }
      ]
    },
    {
      "cell_type": "code",
      "metadata": {
        "id": "mAIcj4a3hWQA"
      },
      "source": [
        "finwiz_url = 'https://finviz.com/quote.ashx?t='"
      ],
      "execution_count": 8,
      "outputs": []
    },
    {
      "cell_type": "code",
      "metadata": {
        "id": "aDQvOdD2haQt"
      },
      "source": [
        "\n",
        "news_tables = {}\n",
        "tickers = ['AMZN', 'TSLA', 'GOOG']"
      ],
      "execution_count": 9,
      "outputs": []
    },
    {
      "cell_type": "code",
      "metadata": {
        "id": "bT2WUMlphdNZ"
      },
      "source": [
        "for ticker in tickers:\n",
        "    url = finwiz_url + ticker\n",
        "    req = Request(url=url, headers={'user-agent': 'my-app/0.0.1'})\n",
        "    response = urlopen(req)\n",
        "    # Read the contents of the file into 'html'\n",
        "    html = BeautifulSoup(response)\n",
        "    # Find 'news-table' in the Soup and load it into 'news_table'\n",
        "    news_table = html.find(id='news-table')\n",
        "    # Add the table to our dictionary\n",
        "    news_tables[ticker] = news_table"
      ],
      "execution_count": 10,
      "outputs": []
    },
    {
      "cell_type": "code",
      "metadata": {
        "id": "xBjhC4GPhiTb"
      },
      "source": [
        "# Read one single day of headlines for 'AMZN'\n",
        "amzn = news_tables['AMZN']\n",
        "# Get all the table rows tagged in HTML with <tr> into 'amzn_tr'\n",
        "amzn_tr = amzn.findAll('tr')"
      ],
      "execution_count": 11,
      "outputs": []
    },
    {
      "cell_type": "code",
      "metadata": {
        "id": "A_BwpSP3hquc",
        "outputId": "ef805a02-1a29-4c07-fa3d-db632cd7b8be",
        "colab": {
          "base_uri": "https://localhost:8080/",
          "height": 153
        }
      },
      "source": [
        "for i, table_row in enumerate(amzn_tr):\n",
        "    # Read the text of the element 'a' into 'link_text'\n",
        "    a_text = table_row.a.text\n",
        "    # Read the text of the element 'td' into 'data_text'\n",
        "    td_text = table_row.td.text\n",
        "    # Print the contents of 'link_text' and 'data_text'\n",
        "    print(a_text)\n",
        "    print(td_text)\n",
        "    # Exit after printing 4 rows of data\n",
        "    if i == 3:\n",
        "        break\n",
        "parsed_news = []"
      ],
      "execution_count": 12,
      "outputs": [
        {
          "output_type": "stream",
          "text": [
            "Stocks That Would Have Made You Rich Today\n",
            "Oct-10-20 03:00PM  \n",
            "3 Top Tech Stocks to Buy Right Now\n",
            "12:06PM  \n",
            "Is Arlo Leaving the Home Security Field to Amazon and Google?\n",
            "11:30AM  \n",
            "4 Reasons Levi's New Online Secondhand Store Is Genius\n",
            "10:08AM  \n"
          ],
          "name": "stdout"
        }
      ]
    },
    {
      "cell_type": "code",
      "metadata": {
        "id": "-FniVwswhzLZ"
      },
      "source": [
        "# Iterate through the news\n",
        "for file_name, news_table in news_tables.items():\n",
        "    # Iterate through all tr tags in 'news_table'\n",
        "    for x in news_table.findAll('tr'):\n",
        "        # read the text from each tr tag into text\n",
        "        # get text from a only\n",
        "        text = x.a.get_text()\n",
        "        # splite text in the td tag into a list\n",
        "        date_scrape = x.td.text.split()\n",
        "        # if the length of 'date_scrape' is 1, load 'time' as the only element\n",
        "\n",
        "        if len(date_scrape) == 1:\n",
        "            time = date_scrape[0]\n",
        "\n",
        "        # else load 'date' as the 1st element and 'time' as the second\n",
        "        else:\n",
        "            date = date_scrape[0]\n",
        "            time = date_scrape[1]\n",
        "        # Extract the ticker from the file name, get the string up to the 1st '_'\n",
        "        ticker = file_name.split('_')[0]\n",
        "\n",
        "        # Append ticker, date, time and headline as a list to the 'parsed_news' list\n",
        "        parsed_news.append([ticker, date, time, text])"
      ],
      "execution_count": 13,
      "outputs": []
    },
    {
      "cell_type": "code",
      "metadata": {
        "id": "Pu3vVjnsh7th",
        "outputId": "cab21c79-e783-4c25-cd5b-97eda09d61a8",
        "colab": {
          "base_uri": "https://localhost:8080/",
          "height": 54
        }
      },
      "source": [
        "print(parsed_news)"
      ],
      "execution_count": 14,
      "outputs": [
        {
          "output_type": "stream",
          "text": [
            "[['AMZN', 'Oct-10-20', '03:00PM', 'Stocks That Would Have Made You Rich Today'], ['AMZN', 'Oct-10-20', '12:06PM', '3 Top Tech Stocks to Buy Right Now'], ['AMZN', 'Oct-10-20', '11:30AM', 'Is Arlo Leaving the Home Security Field to Amazon and Google?'], ['AMZN', 'Oct-10-20', '10:08AM', \"4 Reasons Levi's New Online Secondhand Store Is Genius\"], ['AMZN', 'Oct-10-20', '10:02AM', '2 Important Investing Tips From Peter Lynch'], ['AMZN', 'Oct-10-20', '08:10AM', 'Forget Snowflake, These 3 Tech Stocks Are Better Buys Right Now'], ['AMZN', 'Oct-10-20', '07:30AM', 'Leave Amazon out of Big Tech regulation  it doesnt have a monopoly'], ['AMZN', 'Oct-10-20', '07:25AM', 'Ignore Uber, These 3 Stocks Are Better Buys'], ['AMZN', 'Oct-10-20', '07:05AM', '5 Hot Stocks That Will Get Even Hotter Next Week'], ['AMZN', 'Oct-09-20', '07:46PM', 'Browns Returns Beat the Big Boys of the Ivy League'], ['AMZN', 'Oct-09-20', '06:36PM', 'Amazon Looks Like a Holiday Season Winner, Says Analyst'], ['AMZN', 'Oct-09-20', '05:09PM', 'Why The Delay Of Amazon Prime Day Could Kick-Start Holiday Sales'], ['AMZN', 'Oct-09-20', '05:02PM', 'Is this a golden moment for independent films?'], ['AMZN', 'Oct-09-20', '04:25PM', 'Amazon.com Inc. stock rises Friday, outperforms market'], ['AMZN', 'Oct-09-20', '04:14PM', 'How to cancel your Amazon Prime account'], ['AMZN', 'Oct-09-20', '03:25PM', 'Xilinx-AMD Deal Talk Sends Nasdaq Surging; Mizuho Bids Up eBay'], ['AMZN', 'Oct-09-20', '03:21PM', 'Stocks extend gains with stimulus prospects in focus'], ['AMZN', 'Oct-09-20', '02:00PM', 'Oil Prices Climb 10% In A Week'], ['AMZN', 'Oct-09-20', '01:40PM', 'Better Buy: Amazon vs. Dollar Tree'], ['AMZN', 'Oct-09-20', '01:11PM', 'Google Plans to Make YouTube a Major Shopping Destination'], ['AMZN', 'Oct-09-20', '01:08PM', \"Amazon Agrees to Buy up to 15% of Food Distributor SpartanNash's Stock\"], ['AMZN', 'Oct-09-20', '12:30PM', 'Netflix Is Beating YouTube in This Key Demographic'], ['AMZN', 'Oct-09-20', '11:56AM', 'Apple Prepares to Launch 5G iPhones Into Unready U.S. Market'], ['AMZN', 'Oct-09-20', '11:47AM', 'GameStop Gets Boost From Microsoft Partnership'], ['AMZN', 'Oct-09-20', '11:38AM', 'Why SpartanNash Soared 30% Today'], ['AMZN', 'Oct-09-20', '11:11AM', 'Most popular brands during COVID-19, according to MBLM brand intimacy report'], ['AMZN', 'Oct-09-20', '11:09AM', \"SpartanNash's stock soars after warrant and commercial agreements with Amazon disclosed\"], ['AMZN', 'Oct-09-20', '10:47AM', 'Should You Buy Amazon Stock Before Prime Day?'], ['AMZN', 'Oct-09-20', '10:18AM', 'A Covid Vaccine Wont Stop Online Shopping. 6 Stocks That Will Benefit.'], ['AMZN', 'Oct-09-20', '10:03AM', \"Roku Channel's Availability on Amazon Fire TV Could Vastly Expand Its Reach\"], ['AMZN', 'Oct-09-20', '09:57AM', \"Why I'm Buying More Anaplan Stock\"], ['AMZN', 'Oct-09-20', '09:00AM', '3 Big-Brand Stocks That Are Winning With Teens'], ['AMZN', 'Oct-09-20', '08:33AM', \"Don't Ignore This Glaring Problem in Cloud Computing Stocks\"], ['AMZN', 'Oct-09-20', '08:01AM', \"Amazon's stock gains after Mizuho analyst boosts target to $4,000\"], ['AMZN', 'Oct-09-20', '08:00AM', 'Amazon warehouses in Hawthorne and Eastvale are fined for coronavirus safety violations'], ['AMZN', 'Oct-09-20', '07:46AM', \"AT&T Can't Afford To Keep HBO Max Off Roku and Fire TV\"], ['AMZN', 'Oct-09-20', '07:29AM', 'Is the Worst Over for GameStop?'], ['AMZN', 'Oct-09-20', '07:05AM', '2 Top Growth Stocks to Buy Right Now'], ['AMZN', 'Oct-09-20', '06:30AM', 'Should Tech Investors Worry About Antitrust?'], ['AMZN', 'Oct-09-20', '06:00AM', 'Amazon Wants to Make Jeff Bezos the New King of Bling'], ['AMZN', 'Oct-09-20', '04:37AM', 'AMD Is Said in Talks to Buy Rival Xilinx in $30 Billion Deal'], ['AMZN', 'Oct-08-20', '05:49PM', 'The Roku Channel Launches on Amazon Fire TV'], ['AMZN', 'Oct-08-20', '05:26PM', \"Dow Jones Futures Rise As Trump Reportedly Wants 'Big Deal' On Stimulus Again; Alibaba Leads Three Breakouts\"], ['AMZN', 'Oct-08-20', '05:00PM', 'Microsoft is now the adult in the room among big tech: Seattle Congresswoman'], ['AMZN', 'Oct-08-20', '04:46PM', 'Why Venmo Just Launched a Credit Card'], ['AMZN', 'Oct-08-20', '04:25PM', 'Amazon.com Inc. stock falls Thursday, underperforms market'], ['AMZN', 'Oct-08-20', '03:31PM', \"A First Look At Amazon's Rivian-Made Electric Delivery Van\"], ['AMZN', 'Oct-08-20', '03:10PM', 'Where Will Amazon Be in 10 Years?'], ['AMZN', 'Oct-08-20', '02:25PM', 'Why Is Everyone Talking About Walmart Stock?'], ['AMZN', 'Oct-08-20', '02:15PM', 'IBM to Spin Off Legacy IT Business, Pegging Future on Cloud'], ['AMZN', 'Oct-08-20', '02:14PM', 'Shark Tank star Daymond John: How to create a successful business during COVID-19'], ['AMZN', 'Oct-08-20', '01:58PM', 'Amazon Unveils First Electric Delivery Van Built With Rivian'], ['AMZN', 'Oct-08-20', '01:48PM', 'Amazon Unveils New Electric Delivery Van From Rivian'], ['AMZN', 'Oct-08-20', '01:12PM', 'Amazon expands its NFL Thursday Night Football programming  will the e-commerce giant buy more NFL rights?'], ['AMZN', 'Oct-08-20', '12:45PM', 'Forget Snowflake, Salesforce Is a Better Cloud Computing Stock'], ['AMZN', 'Oct-08-20', '12:44PM', 'Arista Stock Is Spiking Because J.P. Morgan Sees a Cloud-Demand Rebound'], ['AMZN', 'Oct-08-20', '12:30PM', 'Amazon sought to hire intelligence analysts in EU spying row'], ['AMZN', 'Oct-08-20', '11:58AM', 'Tech Support: How to Delete Amazon Prime'], ['AMZN', 'Oct-08-20', '11:55AM', \"IBM CEO: Why we just made this 'landmark' business move\"], ['AMZN', 'Oct-08-20', '11:33AM', 'IBM Is Sharpening Its Focus on the Cloud With Infrastructure Spinoff'], ['AMZN', 'Oct-08-20', '11:10AM', 'Amazon Shows Off New Rivian Electric Delivery Van Model'], ['AMZN', 'Oct-08-20', '11:05AM', 'Slack CEO on Frontiers conference, innovations for the platform, Microsoft competition'], ['AMZN', 'Oct-08-20', '10:38AM', \"How Prime Day Impacts Amazon's Stock (AMZN)\"], ['AMZN', 'Oct-08-20', '10:07AM', 'Amazon debuts its first fully electric delivery vehicle, created in partnership with Rivian'], ['AMZN', 'Oct-08-20', '10:06AM', 'Tesla Stock Is the Next Amazon.com'], ['AMZN', 'Oct-08-20', '10:00AM', 'Roberto Carlos becomes Global Ambassador of Football for Friendship'], ['AMZN', 'Oct-08-20', '10:00AM', 'Apple Pushes Back on House Antitrust Findings'], ['AMZN', 'Oct-08-20', '09:45AM', 'TV Networks Are About to Lose a Lot of Ad Revenue'], ['AMZN', 'Oct-08-20', '09:44AM', 'Does Amazon Even Care About Whole Foods Anymore?'], ['AMZN', 'Oct-08-20', '09:19AM', 'Facebook a net bad for society: Kurt Andersen'], ['AMZN', 'Oct-08-20', '09:00AM', 'Influencers with Andy Serwer: Kurt Andersen'], ['AMZN', 'Oct-08-20', '07:45AM', 'Did Disney Just Scuttle Any Future Streaming Pay-Per-Views for Disney+?'], ['AMZN', 'Oct-08-20', '07:30AM', \"[video]5 Thoughts on the House's Antitrust Report on Google, Facebook, Apple and Amazon\"], ['AMZN', 'Oct-08-20', '07:06AM', '3 Top Cloud Computing Stocks to Buy Right Now'], ['AMZN', 'Oct-08-20', '07:03AM', 'Is GoodRx Stock a Buy?'], ['AMZN', 'Oct-08-20', '07:02AM', 'Amazon Says Indian Partner Broke Pact After Ambani Sale Deal'], ['AMZN', 'Oct-08-20', '07:00AM', 'Target joins forces with FAO Schwarz for holiday season toy domination'], ['AMZN', 'Oct-08-20', '07:00AM', \"INRS Researchers Design the World's Fastest UV Camera\"], ['AMZN', 'Oct-08-20', '06:59AM', 'Worried About the U.S. Stock Market? Buy Alibaba Options.'], ['AMZN', 'Oct-08-20', '06:19AM', \"Why Amazon Won't Split Its Stock\"], ['AMZN', 'Oct-08-20', '06:09AM', '3 Safe Stocks to Buy in a Not-So-Safe Market'], ['AMZN', 'Oct-08-20', '06:06AM', 'Forget the FAANG Stocks and Buy \"TIPS\" Instead'], ['AMZN', 'Oct-08-20', '05:00AM', 'U.S. $10 Billion in Sales Expected From Amazons Delayed Prime Day, and Two More Numbers to Know'], ['AMZN', 'Oct-07-20', '10:13PM', \"Ex-Tesla exec Straubel aims to build world's top battery recycler\"], ['AMZN', 'Oct-07-20', '07:50PM', 'Why Bed Bath & Beyond Stock Is Up'], ['AMZN', 'Oct-07-20', '07:01PM', \"Jim Cramer: Probe Into Big Tech 'Monopoly' Is Just a Political Game\"], ['AMZN', 'Oct-07-20', '06:02PM', \"Ex-Tesla executive Straubel aims to build world's top battery recycler\"], ['AMZN', 'Oct-07-20', '05:57PM', \"CORRECTED-Ex-Tesla exec Straubel aims to build world's top battery recycler\"], ['AMZN', 'Oct-07-20', '05:17PM', 'What $1,000 Invested in Stocks 10 Years Ago Would Be Worth Today'], ['AMZN', 'Oct-07-20', '05:15PM', 'Dow Jones Futures: Stock Market Rally, Apple, Amazon Rebound On Trump Tweet, Elon Musk Eyes Tesla Milestone; Fastly, Etsy, Alibaba, Alexion In Buy Zones'], ['AMZN', 'Oct-07-20', '04:40PM', 'Whole Foods foot traffic down 25% in September: report'], ['AMZN', 'Oct-07-20', '04:25PM', 'Amazon.com Inc. stock rises Wednesday, outperforms market'], ['AMZN', 'Oct-07-20', '04:20PM', 'Netflix Seen Dominating Streaming Video Market For Foreseeable Future'], ['AMZN', 'Oct-07-20', '04:17PM', \"Amazon sends legal notice to India's Future Group over deal with Ambani's Reliance Retail\"], ['AMZN', 'Oct-07-20', '04:17PM', 'For big tech, structural separation doesnt mean divestiture: expert'], ['AMZN', 'Oct-07-20', '03:48PM', 'Amazon remains top idea at J.P. Morgan on Prime Day, early holiday shopping optimism'], ['AMZN', 'Oct-07-20', '03:37PM', 'Amazon Prime Day is about making you a customer for life'], ['AMZN', 'Oct-07-20', '03:06PM', 'With a potential selloff looming, investors need to rethink their approach to Big Tech, Barclays strategist warns'], ['AMZN', 'Oct-07-20', '01:46PM', 'House Report Has Minimal Impact on Big Tech Stocks'], ['AMZN', 'Oct-07-20', '12:45PM', 'Amazon Is Going All Out to Dominate This Bustling E-Commerce Market'], ['TSLA', 'Oct-10-20', '01:09PM', \"Benzinga's Bulls And Bears Of The Week: AT&T, Apple, Tesla And More\"], ['TSLA', 'Oct-09-20', '05:42PM', 'Nissan Will Provide Automated Driving Technology in All Future Models'], ['TSLA', 'Oct-09-20', '05:05PM', 'Tesla In League Of Its Own With Massive Expansion Plans Underway'], ['TSLA', 'Oct-09-20', '04:25PM', 'Tesla Inc. stock outperforms competitors on strong trading day'], ['TSLA', 'Oct-09-20', '03:19PM', 'Why Amazon and Panasonic are betting on this battery recycling startup'], ['TSLA', 'Oct-09-20', '02:00PM', 'Oil Prices Climb 10% In A Week'], ['TSLA', 'Oct-09-20', '01:25PM', 'Dow Jones Jumps 225 Points On New Trump Stimulus Offer; Apple, Tesla Rally, While Xilinx Soars 16% On AMD Talks'], ['TSLA', 'Oct-09-20', '01:11PM', 'Hyundai Recalls Kona EV Over Battery Fire Concerns'], ['TSLA', 'Oct-09-20', '11:40AM', 'Is GM Stock A Buy? General Motors Shakes Off Nikola Flap As Ultium EV Future Takes Shape'], ['TSLA', 'Oct-09-20', '11:33AM', 'New Tesla Model 3 Refresh Spotted In Fremont'], ['TSLA', 'Oct-09-20', '11:11AM', 'Most popular brands during COVID-19, according to MBLM brand intimacy report'], ['TSLA', 'Oct-09-20', '10:15AM', 'Tesla Seeks Approval to Make Batteries at New Texas Plant'], ['TSLA', 'Oct-09-20', '08:45AM', 'Which EV Stock Will Grow The Most By 2025?'], ['TSLA', 'Oct-09-20', '08:13AM', \"Dow Jones Futures Rise As Trump Reportedly Wants 'Big Deal' On Stimulus Again; Alibaba Leads Three Breakouts\"], ['TSLA', 'Oct-09-20', '08:00AM', 'Millennials Make Tons Of Money On Their New Favorite Stock'], ['TSLA', 'Oct-09-20', '07:28AM', '1 Electric Van Stock With a Bus-Sized Opportunity'], ['TSLA', 'Oct-09-20', '07:13AM', 'This Analyst Thinks Tesla Stock Is Headed to $578'], ['TSLA', 'Oct-09-20', '05:25AM', 'Carmakers compete to keep you entertained'], ['TSLA', 'Oct-08-20', '10:15PM', '13 Biggest Companies That Hire Felons'], ['TSLA', 'Oct-08-20', '09:35PM', 'Tesla: Use Any Stock Weakness to Snap Up Shares, Says Analyst'], ['TSLA', 'Oct-08-20', '04:53PM', 'Nasdaq Rises as Tesla, Paychex Got Thumbs Up From Wall Street Thursday'], ['TSLA', 'Oct-08-20', '04:51PM', 'Tesla to report Q3 results Oct. 21'], ['TSLA', 'Oct-08-20', '04:47PM', 'Tesla Full Self-Driving Beta Update Expected In Weeks: Musk'], ['TSLA', 'Oct-08-20', '04:25PM', 'Tesla Inc. stock rises Thursday, still underperforms market'], ['TSLA', 'Oct-08-20', '02:27PM', 'PREMIUM: Trading election-year odds in historically volatile October  webinar with Ryan Detrick'], ['TSLA', 'Oct-08-20', '01:48PM', 'Amazon Unveils New Electric Delivery Van From Rivian'], ['TSLA', 'Oct-08-20', '01:45PM', 'Dow Jones Whipsaws On Stimulus News; S&P 500 Leads Market Higher'], ['TSLA', 'Oct-08-20', '12:08PM', \"Dow Jones Reverses Lower On Stimulus News; Apple, Roku, Tesla Race Higher, But Domino's Dives 8% On Weak Earnings\"], ['TSLA', 'Oct-08-20', '10:22AM', \"Elon Musk Shares Tesla's Unibody Repair Strategy\"], ['TSLA', 'Oct-08-20', '10:20AM', \"Analyzing Tesla's Unusual Options Activity\"], ['TSLA', 'Oct-08-20', '10:06AM', 'Tesla Stock Is the Next Amazon.com'], ['TSLA', 'Oct-08-20', '09:58AM', 'Dow Jones Today, Stocks Climb, Jobless Claims Disappoint; Regeneron Rallies, IBM Spikes On Spin-Off'], ['TSLA', 'Oct-08-20', '09:41AM', 'Tesla Gets Wall Street-High Price Target of $578 From New Street'], ['TSLA', 'Oct-08-20', '09:00AM', 'Tesla Just Eliminated Its PR Department'], ['TSLA', 'Oct-08-20', '08:14AM', 'Dow Jones Futures Rise: Stock Market Rally Stronger Than It Seems; IBM, Tesla, Taiwan Semiconductor, Regeneron Climb'], ['TSLA', 'Oct-08-20', '05:51AM', '3 Stocks Robinhood Investors Love That Wall Street Hates'], ['TSLA', 'Oct-08-20', '05:39AM', 'Dow Jones Futures: Stock Market Rally Rebounds On Trump Tweet, Elon Musk Eyes Tesla Milestone; Fastly Leads New Breakouts'], ['TSLA', 'Oct-08-20', '01:03AM', \"Tesla Customer Care 'Horrendous,' Model 3 Owner Says After Butt-Dialing Autopilot Upgrade\"], ['TSLA', 'Oct-07-20', '10:13PM', \"Ex-Tesla exec Straubel aims to build world's top battery recycler\"], ['TSLA', 'Oct-07-20', '09:45PM', 'Heres the Real Cost of Stock Splits That Buffett Knows and Apple and Tesla Ignored'], ['TSLA', 'Oct-07-20', '09:37PM', 'Musk says Tesla to use new batteries, tech at Berlin factory; flags production risk'], ['TSLA', 'Oct-07-20', '06:02PM', \"Ex-Tesla executive Straubel aims to build world's top battery recycler\"], ['TSLA', 'Oct-07-20', '05:57PM', \"CORRECTED-Ex-Tesla exec Straubel aims to build world's top battery recycler\"], ['TSLA', 'Oct-07-20', '05:46PM', \"Tesla's Market Cap Unlocks $3B In Potential Compensation For Musk\"], ['TSLA', 'Oct-07-20', '05:15PM', 'Sports Betting Site Allows Wagers On Tesla, Rivian, Lordstown In Race For First Electric Pickup'], ['TSLA', 'Oct-07-20', '05:00PM', 'Why Nikola Was Never Actually A Tesla Challenger'], ['TSLA', 'Oct-07-20', '04:25PM', 'Tesla Inc. stock outperforms market on strong trading day'], ['TSLA', 'Oct-07-20', '04:07PM', 'Why CleanSpark Is Down 15% Today'], ['TSLA', 'Oct-07-20', '03:06PM', 'With a potential selloff looming, investors need to rethink their approach to Big Tech, Barclays strategist warns'], ['TSLA', 'Oct-07-20', '01:48PM', 'Why Tesla Stock Is Up 3% Today, But 3D Systems Stock Jumped 16%'], ['TSLA', 'Oct-07-20', '01:35PM', 'Tesla Fires Employee Over Sabotage, Report Says'], ['TSLA', 'Oct-07-20', '12:32PM', 'Tesla has a shot at producing 500,000 cars this year, Musk says in memo'], ['TSLA', 'Oct-07-20', '12:28PM', 'Another Leaked Email Suggests Tesla Could Beat Goal Of Producing Over 500,000 Vehicles In 2020'], ['TSLA', 'Oct-07-20', '12:12PM', 'Elon Musk Confirms Gigafactory Berlin Will Use New 4680 Cells, Single Piece Casting, New Paint System'], ['TSLA', 'Oct-07-20', '11:47AM', 'Dow Jones Surges 450 Points On Trump Stimulus Tweets; Apple, Boeing, Tesla Snap Back, But DraftKings Dives 8%'], ['TSLA', 'Oct-07-20', '11:33AM', 'Covid Creates Spike in Tech and Health Care Billionaires'], ['TSLA', 'Oct-07-20', '11:02AM', 'Tesla Adds More Security With Two-Factor Authentication'], ['TSLA', 'Oct-07-20', '10:44AM', 'Tesla fires employee for malicious sabotage: RPT'], ['TSLA', 'Oct-07-20', '10:00AM', 'Lithium and Rare Earths Stocks On the Move'], ['TSLA', 'Oct-07-20', '06:38AM', 'Tesla In Talks For Nickel-Supply Deal With BHP  Report'], ['TSLA', 'Oct-07-20', '05:35AM', \"Tesla Remains 'Misvalued,' Says SPAC King Palihapitiya\"], ['TSLA', 'Oct-06-20', '10:17PM', \"Tesla Fired Employee On Allegations Of 'Maliciously' Sabotaging Fremont Factory: Report\"], ['TSLA', 'Oct-06-20', '05:34PM', 'Tesla, BHP In Talks For Nickel Supply Deal: Report'], ['TSLA', 'Oct-06-20', '04:40PM', \"Chief Market Strategist on why millennial clients are 'taking on more exposure' in markets\"], ['TSLA', 'Oct-06-20', '04:25PM', 'Tesla Inc. stock falls Tuesday, underperforms market'], ['TSLA', 'Oct-06-20', '04:17PM', 'PG&E Installs Its First Tesla Megapacks'], ['TSLA', 'Oct-06-20', '04:12PM', 'Tesla Stock Slips After Q3 2020 Deliveries Report'], ['TSLA', 'Oct-06-20', '04:10PM', 'Supplier For Electric-Car Boom Soars 300% So Far This Month'], ['TSLA', 'Oct-06-20', '04:06PM', 'SpaceX Expands Military Role With First Pentagon Contract In New Market'], ['TSLA', 'Oct-06-20', '03:45PM', 'Tesla Option Trader Bets $3M On 29% Upside From Here'], ['TSLA', 'Oct-06-20', '03:34PM', \"Tesla's quarterly report could land Musk another $3 billion\"], ['TSLA', 'Oct-06-20', '03:24PM', \"Tesla's quarterly report could land Musk another $3 billion\"], ['TSLA', 'Oct-06-20', '03:19PM', 'Top Electric Car Stocks for Q4 2020'], ['TSLA', 'Oct-06-20', '02:53PM', 'Tesla Has State Government Invite For Giga, R&D Hub In Bangalore'], ['TSLA', 'Oct-06-20', '01:44PM', 'Why Piedmont Lithium and CBAK Energy Technology Stocks Just Popped -- But Lithium Americas Dropped'], ['TSLA', 'Oct-06-20', '01:28PM', 'Tesla Is in Talks With Top Miner BHP Over Nickel-Supply Pact'], ['TSLA', 'Oct-06-20', '12:32PM', 'Tesla Could Soon Start Model Y Deliveries From Giga Shanghai'], ['TSLA', 'Oct-06-20', '11:50AM', 'Dow Jones Jumps 125 Points As Trump Continues Coronavirus Recovery; Apple, Microsoft, Tesla Slide'], ['TSLA', 'Oct-06-20', '10:18AM', \"After Tesla's Price Drop In China, Competitors Having A Hard Time Keeping Up\"], ['TSLA', 'Oct-06-20', '09:29AM', \"3 Things You Didn't Know About Electric-Vehicle Stocks\"], ['TSLA', 'Oct-06-20', '07:34AM', 'What Tesla Investors Can Learn From the Last Decade in Solar Energy Stocks'], ['TSLA', 'Oct-06-20', '04:25AM', 'Toyota, Panasonic To Establish New Hybrid EV Battery Production Line In Japan'], ['TSLA', 'Oct-06-20', '03:02AM', \"Elon Musk Says It's 'Crazy' That Europe Subsidizes Pollution\"], ['TSLA', 'Oct-06-20', '01:25AM', 'Nintendo Bulls Betting Switch Can Provide Gamings iPhone Moment'], ['TSLA', 'Oct-05-20', '11:18PM', 'Tesla The Only Automaker Seeing Sales Growth In Germany This Year: Report'], ['TSLA', 'Oct-05-20', '09:05PM', 'Wall Street sees Biden win speeding U.S. shift to clean energy'], ['TSLA', 'Oct-05-20', '04:25PM', 'Tesla Inc. stock outperforms competitors on strong trading day'], ['TSLA', 'Oct-05-20', '04:20PM', 'Xpeng Motors Is Latest Tesla China Rival To Report Booming Q3 Sales; Xpeng Stock Pops'], ['TSLA', 'Oct-05-20', '03:58PM', 'JP Morgan raises Teslas price target to $75 on Q3 deliveries'], ['TSLA', 'Oct-05-20', '12:04PM', 'Dow Jones Jumps 400 Points On Trump Coronavirus Health; Apple, Tesla Snap Back, While DraftKings Dives'], ['TSLA', 'Oct-05-20', '11:52AM', 'Tesla Analyst: Seasonality Makes Spike In Q4 Deliveries Unlikely'], ['TSLA', 'Oct-05-20', '11:37AM', 'History of Tesla: Timeline and Facts'], ['TSLA', 'Oct-05-20', '11:11AM', 'Why Tesla Stock Jumped on Monday'], ['TSLA', 'Oct-05-20', '10:44AM', 'Vale (VALE) Rebounds Amid Talks With EV Makers'], ['TSLA', 'Oct-05-20', '10:43AM', 'Tesla cameras reportedly monitor driving habits'], ['TSLA', 'Oct-05-20', '10:01AM', \"Understanding Tesla's Unusual Options Activity\"], ['TSLA', 'Oct-05-20', '10:00AM', 'Why Lithium Americas Stock Soared 86% From Sept. 1 to Oct. 2'], ['TSLA', 'Oct-05-20', '10:00AM', \"Tesla's Price Target Raised by J.P Morgan After Deliveries Data\"], ['TSLA', 'Oct-05-20', '08:15AM', \"Dow Jones Futures Signal Stock Market Rally On President Trump's Prognosis, Stimulus Deal Hopes\"], ['TSLA', 'Oct-05-20', '07:44AM', \"Tesla's stock bounces, as long-time bearish analyst at J.P. Morgan lifts price target\"], ['GOOG', 'Oct-10-20', '05:00PM', 'The Worlds First Fully Driverless Vehicle Ready To Hit The Roads'], ['GOOG', 'Oct-10-20', '01:10PM', \"This Week in Apps: Antitrust investigation dubs App Store a monopoly, Microsoft adopts 'app fairness' rules, pandemic boosts Q3 app revenues\"], ['GOOG', 'Oct-10-20', '11:30AM', 'Is Arlo Leaving the Home Security Field to Amazon and Google?'], ['GOOG', 'Oct-10-20', '11:27AM', \"Here's How Long It Took Google To Reach A $100B Market Cap\"], ['GOOG', 'Oct-10-20', '10:40AM', 'The Alphabet (NASDAQ:GOOG.L) Share Price Has Gained 117%, So Why Not Pay It Some Attention?'], ['GOOG', 'Oct-10-20', '08:27AM', 'App Removed After Helping Users Bypass Chinas Great Firewall'], ['GOOG', 'Oct-10-20', '07:39AM', 'A different way the news is dividing America'], ['GOOG', 'Oct-10-20', '07:30AM', 'Leave Amazon out of Big Tech regulation  it doesnt have a monopoly'], ['GOOG', 'Oct-09-20', '06:25PM', 'YouTubes Now Testing Shopping Features'], ['GOOG', 'Oct-09-20', '04:25PM', 'Alphabet Inc. Cl A stock rises Friday, outperforms market'], ['GOOG', 'Oct-09-20', '03:21PM', 'Stocks extend gains with stimulus prospects in focus'], ['GOOG', 'Oct-09-20', '02:25PM', 'Microsoft Is Bringing Xbox Game Pass to iOS, but With a Catch'], ['GOOG', 'Oct-09-20', '01:59PM', \"Factbox: Big Tech's market dominance spurs numerous U.S. antitrust probes\"], ['GOOG', 'Oct-09-20', '01:11PM', 'Google Plans to Make YouTube a Major Shopping Destination'], ['GOOG', 'Oct-09-20', '12:30PM', 'Netflix Is Beating YouTube in This Key Demographic'], ['GOOG', 'Oct-09-20', '11:56AM', 'Apple Prepares to Launch 5G iPhones Into Unready U.S. Market'], ['GOOG', 'Oct-09-20', '11:11AM', 'Most popular brands during COVID-19, according to MBLM brand intimacy report'], ['GOOG', 'Oct-09-20', '10:00AM', 'Microsoft Takes Shots at Apple in New App Store Principles'], ['GOOG', 'Oct-09-20', '09:57AM', \"Why I'm Buying More Anaplan Stock\"], ['GOOG', 'Oct-09-20', '09:48AM', 'Dow Gains as White House Reportedly Ready to Raise Stimulus Offer'], ['GOOG', 'Oct-09-20', '06:30AM', 'Should Tech Investors Worry About Antitrust?'], ['GOOG', 'Oct-09-20', '05:25AM', 'Carmakers compete to keep you entertained'], ['GOOG', 'Oct-09-20', '05:00AM', 'American-Made Disinformation Strains Social Medias Safeguards'], ['GOOG', 'Oct-09-20', '04:37AM', 'AMD Is Said in Talks to Buy Rival Xilinx in $30 Billion Deal'], ['GOOG', 'Oct-08-20', '10:59PM', 'Google Sister Waymo Rolls Out Self-Driving Taxi Service To The Public'], ['GOOG', 'Oct-08-20', '05:18PM', \"Alphabet Inc. -- Moody's announces completion of a periodic review of ratings of Alphabet Inc.\"], ['GOOG', 'Oct-08-20', '04:25PM', 'Alphabet Inc. Cl A stock rises Thursday, outperforms market'], ['GOOG', 'Oct-08-20', '02:52PM', 'Google Readies Cheaper Nest Thermostat With Hand Gesture Control'], ['GOOG', 'Oct-08-20', '12:44PM', 'Arista Stock Is Spiking Because J.P. Morgan Sees a Cloud-Demand Rebound'], ['GOOG', 'Oct-08-20', '12:31PM', 'Waymo starts to open driverless ride-hailing service to the public'], ['GOOG', 'Oct-08-20', '12:12PM', 'Waymo opens driverless robo-taxi service to the public in Phoenix'], ['GOOG', 'Oct-08-20', '12:07PM', 'Morning Bell With Jim Cramer: Buy Alphabet if This Happens'], ['GOOG', 'Oct-08-20', '12:00PM', 'CORRECTED-Waymo opens driverless robo-taxi service to the public in Phoenix'], ['GOOG', 'Oct-08-20', '11:55AM', \"IBM CEO: Why we just made this 'landmark' business move\"], ['GOOG', 'Oct-08-20', '11:05AM', 'Slack CEO on Frontiers conference, innovations for the platform, Microsoft competition'], ['GOOG', 'Oct-08-20', '11:05AM', 'Dow Trims Some Gains as Pelosi Rejects Piecemeal Stimulus'], ['GOOG', 'Oct-08-20', '10:06AM', 'Tesla Stock Is the Next Amazon.com'], ['GOOG', 'Oct-08-20', '10:00AM', 'Apple Pushes Back on House Antitrust Findings'], ['GOOG', 'Oct-08-20', '09:19AM', 'Facebook a net bad for society: Kurt Andersen'], ['GOOG', 'Oct-08-20', '09:00AM', 'Influencers with Andy Serwer: Kurt Andersen'], ['GOOG', 'Oct-08-20', '07:45AM', 'MessageBirds $200 Million Fundraise Likely Last Before an IPO'], ['GOOG', 'Oct-08-20', '07:30AM', \"[video]5 Thoughts on the House's Antitrust Report on Google, Facebook, Apple and Amazon\"], ['GOOG', 'Oct-08-20', '07:08AM', 'Paytm targets a million apps on its mini app store to take on Google'], ['GOOG', 'Oct-08-20', '07:06AM', '3 Top Cloud Computing Stocks to Buy Right Now'], ['GOOG', 'Oct-08-20', '07:00AM', 'Think Big Tech is Getting Broken Up? Buy Alphabet Stock'], ['GOOG', 'Oct-08-20', '06:53AM', 'Google must negotiate to pay for French news, appeals court confirms'], ['GOOG', 'Oct-08-20', '06:06AM', 'Forget the FAANG Stocks and Buy \"TIPS\" Instead'], ['GOOG', 'Oct-07-20', '09:09PM', \"Trick or Tweet: Cramer's 'Mad Money' Recap (Wednesday 10/7/20)\"], ['GOOG', 'Oct-07-20', '08:50PM', 'U.S. Seizes 92 Websites Used by Iran to Spread Disinformation'], ['GOOG', 'Oct-07-20', '07:01PM', \"Jim Cramer: Probe Into Big Tech 'Monopoly' Is Just a Political Game\"], ['GOOG', 'Oct-07-20', '06:09PM', 'Daily Crunch: Big tech responds to antitrust report'], ['GOOG', 'Oct-07-20', '05:46PM', 'Why It Might Be Time to Meld Your Investing Strategy With Your Disaster Preparedness Plan'], ['GOOG', 'Oct-07-20', '05:32PM', 'Facebook Bans Political Ads After End of Voting on Election Day'], ['GOOG', 'Oct-07-20', '04:25PM', 'Alphabet Inc. Cl A stock rises Wednesday, still underperforms market'], ['GOOG', 'Oct-07-20', '04:17PM', 'For big tech, structural separation doesnt mean divestiture: expert'], ['GOOG', 'Oct-07-20', '03:52PM', \"Here's the curtain raise on the Sight Tech Global agenda\"], ['GOOG', 'Oct-07-20', '03:48PM', 'FB Stock: Is Facebook A Buy As Antitrust Threat Builds?'], ['GOOG', 'Oct-07-20', '03:37PM', 'Amazon Prime Day is about making you a customer for life'], ['GOOG', 'Oct-07-20', '03:06PM', 'With a potential selloff looming, investors need to rethink their approach to Big Tech, Barclays strategist warns'], ['GOOG', 'Oct-07-20', '02:24PM', 'Google, Oracle Face Off in Supreme Court in Largest Software Development Case Ever'], ['GOOG', 'Oct-07-20', '02:17PM', 'Google poised to strike deal to pay French publishers for their news'], ['GOOG', 'Oct-07-20', '01:46PM', 'House Report Has Minimal Impact on Big Tech Stocks'], ['GOOG', 'Oct-07-20', '01:38PM', 'Google, Oracle face off in Supreme Court in largest software development case ever'], ['GOOG', 'Oct-07-20', '01:00PM', 'Google Assistant gets an incognito-like guest mode'], ['GOOG', 'Oct-07-20', '01:00PM', 'Wish You Could Fast-Forward This Earnings Season? Pause To Preview Comms Sector'], ['GOOG', 'Oct-07-20', '12:37PM', 'Google Gets Mixed Reception in High Court Clash With Oracle'], ['GOOG', 'Oct-07-20', '12:34PM', 'Big Tech Now Has Reason to Fear a Democratic Victory'], ['GOOG', 'Oct-07-20', '12:04PM', 'How Google (Alphabet) Makes Money'], ['GOOG', 'Oct-07-20', '11:29AM', \"Breaking up Facebook 'doesn't solve competition long-term': MIT Professor\"], ['GOOG', 'Oct-07-20', '11:14AM', \"House lawmakers' Big Tech antitrust report approach is 'likely going to get us the wrong answer': expert\"], ['GOOG', 'Oct-07-20', '10:02AM', 'Salesforce, Okta Partner to Help Firms With Contact Tracing'], ['GOOG', 'Oct-07-20', '09:37AM', '3 Top Artificial Intelligence Stocks to Buy Right Now'], ['GOOG', 'Oct-07-20', '09:36AM', 'Tech Antitrust Push Faces Brick Wall From Gap Between Parties'], ['GOOG', 'Oct-07-20', '09:21AM', 'U.S. lawmakers outline plan for reforming big tech'], ['GOOG', 'Oct-07-20', '09:15AM', 'Morning Bell With Jim Cramer: Google Is Making Changes'], ['GOOG', 'Oct-07-20', '08:45AM', \"Google Rebrands Its G-Suite as 'Google Workplace'\"], ['GOOG', 'Oct-07-20', '08:11AM', 'Apple Leads the Pack in Survey of Brands Customers Love Most'], ['GOOG', 'Oct-07-20', '08:03AM', 'Breakout Watch: Fast-Growing IPO Takes On Cloud Giants Amazon, Microsoft, Google'], ['GOOG', 'Oct-07-20', '07:26AM', \"Big tech blows a collective raspberry at the House's antitrust report\"], ['GOOG', 'Oct-07-20', '06:37AM', 'Exclusive: Google faces new antitrust case in India over abuse in smart TVs market - sources'], ['GOOG', 'Oct-07-20', '06:34AM', 'Exclusive: Google faces new antitrust case in India over abuse in smart TVs market - sources'], ['GOOG', 'Oct-07-20', '06:07AM', 'Supreme Court to mull Google bid to end Oracle copyright suit'], ['GOOG', 'Oct-07-20', '06:04AM', 'U.S. Supreme Court to mull Google bid to end Oracle copyright suit'], ['GOOG', 'Oct-07-20', '06:00AM', 'U.S. Supreme Court to mull Google bid to end Oracle copyright suit'], ['GOOG', 'Oct-07-20', '03:00AM', 'Warren Buffett is extraordinary for acknowledging class warfare by the rich: Kurt Andersen'], ['GOOG', 'Oct-07-20', '12:23AM', 'Facebook, Amazon, Apple, Google Stamping Out Rivals, Stifling Innovation, House Antitrust Investigation Concludes'], ['GOOG', 'Oct-06-20', '08:52PM', 'House Panel Urges Tech Giant Breakup in Plan Republicans Shunned'], ['GOOG', 'Oct-06-20', '08:37PM', \"Big Tech's $5 Trillion Reckoning Has to Start Somewhere\"], ['GOOG', 'Oct-06-20', '08:03PM', 'House Report Attacks Tech Giants as Monopolists That Stifle Competition'], ['GOOG', 'Oct-06-20', '07:49PM', 'Big Tech Under Attack: Key Allegations in House Antitrust Report'], ['GOOG', 'Oct-06-20', '06:43PM', \"Trump's Tweet Tanks S&P 500: Stocks Fall Sharply as President Puts Stimulus Talks on Hold\"], ['GOOG', 'Oct-06-20', '06:39PM', 'Daily Crunch: G Suite becomes Google Workspace'], ['GOOG', 'Oct-06-20', '06:04PM', \"Google's new logos are bad\"], ['GOOG', 'Oct-06-20', '06:02PM', 'Lawmakers Issue Antitrust Report on Apple, Alphabet, Amazon and Facebook'], ['GOOG', 'Oct-06-20', '05:43PM', 'Microsoft, Wells Fargo Diversity Plans\\xa0 Draw\\xa0U.S. Labor Inquiry'], ['GOOG', 'Oct-06-20', '05:19PM', 'House Democrats Call for Antitrust Reforms to Rein in Abuse by Amazon, Apple, Facebook and Google'], ['GOOG', 'Oct-06-20', '05:13PM', 'House Democrats: FB, AMZN, GOOGL & AAPL enjoy monopoly power'], ['GOOG', 'Oct-06-20', '04:54PM', 'Big Tech Stocks Fall On House Report Threatening Antitrust Action'], ['GOOG', 'Oct-06-20', '04:40PM', \"Chief Market Strategist on why millennial clients are 'taking on more exposure' in markets\"], ['GOOG', 'Oct-06-20', '04:26PM', 'Congress should consider breaking up Big Tech and limiting acquisitions, House report says']]\n"
          ],
          "name": "stdout"
        }
      ]
    },
    {
      "cell_type": "code",
      "metadata": {
        "id": "6-k37EqYiAqe",
        "outputId": "9668dabc-fba1-4729-83fa-bb1ffda9f3de",
        "colab": {
          "base_uri": "https://localhost:8080/",
          "height": 572
        }
      },
      "source": [
        "# Instantiate the sentiment intensity analyzer\n",
        "vader = SentimentIntensityAnalyzer()\n",
        "\n",
        "# Set column names\n",
        "columns = ['ticker', 'date', 'time', 'headline']\n",
        "\n",
        "# Convert the parsed_news list into a DataFrame called 'parsed_and_scored_news'\n",
        "parsed_and_scored_news = pd.DataFrame(parsed_news, columns=columns)\n",
        "\n",
        "# Iterate through the headlines and get the polarity scores using vader\n",
        "scores = parsed_and_scored_news['headline'].apply(vader.polarity_scores).tolist()\n",
        "\n",
        "# Convert the 'scores' list of dicts into a DataFrame\n",
        "scores_df = pd.DataFrame(scores)\n",
        "\n",
        "# Join the DataFrames of the news and the list of dicts\n",
        "parsed_and_scored_news = parsed_and_scored_news.join(scores_df, rsuffix='_right')\n",
        "\n",
        "# Convert the date column from string to datetime\n",
        "parsed_and_scored_news['date'] = pd.to_datetime(parsed_and_scored_news.date).dt.date\n",
        "\n",
        "print(parsed_and_scored_news.head())\n",
        "\n",
        "plt.rcParams['figure.figsize'] = [10, 6]\n",
        "\n",
        "# Group by date and ticker columns from scored_news and calculate the mean\n",
        "mean_scores = parsed_and_scored_news.groupby(['ticker', 'date']).mean()\n",
        "\n",
        "# Unstack the column ticker\n",
        "mean_scores = mean_scores.unstack()\n",
        "\n",
        "# Get the cross-section of compound in the 'columns' axis\n",
        "mean_scores = mean_scores.xs('compound', axis=\"columns\").transpose()\n",
        "\n",
        "# Plot a bar chart with pandas\n",
        "mean_scores.plot(kind='bar')\n",
        "plt.grid()\n"
      ],
      "execution_count": 15,
      "outputs": [
        {
          "output_type": "stream",
          "text": [
            "  ticker        date     time  ...    neu    pos  compound\n",
            "0   AMZN  2020-10-10  03:00PM  ...  0.660  0.340    0.5574\n",
            "1   AMZN  2020-10-10  12:06PM  ...  0.769  0.231    0.2023\n",
            "2   AMZN  2020-10-10  11:30AM  ...  0.687  0.313    0.4767\n",
            "3   AMZN  2020-10-10  10:08AM  ...  1.000  0.000    0.0000\n",
            "4   AMZN  2020-10-10  10:02AM  ...  0.735  0.265    0.2023\n",
            "\n",
            "[5 rows x 8 columns]\n"
          ],
          "name": "stdout"
        },
        {
          "output_type": "display_data",
          "data": {
            "image/png": "[encoded data removed]",
            "text/plain": [
              "<Figure size 720x432 with 1 Axes>"
            ]
          },
          "metadata": {
            "tags": [],
            "needs_background": "light"
          }
        }
      ]
    },
    {
      "cell_type": "code",
      "metadata": {
        "id": "niZMzWpkiJqF"
      },
      "source": [
        ""
      ],
      "execution_count": null,
      "outputs": []
    }
  ]
}